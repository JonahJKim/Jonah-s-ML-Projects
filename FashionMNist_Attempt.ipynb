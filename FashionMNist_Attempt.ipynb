{
  "nbformat": 4,
  "nbformat_minor": 0,
  "metadata": {
    "colab": {
      "name": "FashionMNist Attempt.ipynb",
      "provenance": []
    },
    "kernelspec": {
      "name": "python3",
      "display_name": "Python 3"
    },
    "language_info": {
      "name": "python"
    },
    "accelerator": "GPU",
    "gpuClass": "standard"
  },
  "cells": [
    {
      "cell_type": "code",
      "execution_count": 190,
      "metadata": {
        "id": "wKWUTDkOgNqN"
      },
      "outputs": [],
      "source": [
        "import matplotlib.pyplot as plt\n",
        "import numpy as np\n",
        "import torch\n",
        "import torch.nn as nn\n",
        "import torch.nn.functional as F\n",
        "import torchvision\n",
        "import torch.optim as optim\n",
        "import torchvision.transforms as transforms\n",
        "from torch.utils.data import DataLoader\n",
        "import time"
      ]
    },
    {
      "cell_type": "code",
      "source": [
        "batch_size = 512\n",
        "\n",
        "transform = transforms.Compose([transforms.ToTensor()])\n",
        "\n",
        "trainset = torchvision.datasets.FashionMNIST('./data', train=True, download=True, transform=transform)\n",
        "trainloader = DataLoader(trainset, batch_size=batch_size, shuffle=True)\n",
        "\n",
        "testset = torchvision.datasets.FashionMNIST('./data', train=True, download=True, transform=transform)\n",
        "testloader = DataLoader(testset, batch_size=128, shuffle=True)\n",
        "\n",
        "device = 'cuda' if torch.cuda.is_available() else 'cpu'"
      ],
      "metadata": {
        "id": "KYLDuGbNgqil"
      },
      "execution_count": 191,
      "outputs": []
    },
    {
      "cell_type": "code",
      "source": [
        "class CNNModel(nn.Module):\n",
        "  def __init__(self):\n",
        "    super().__init__()\n",
        "\n",
        "    self.conv1 = nn.Conv2d(1, 16, 5)\n",
        "    self.pool = nn.MaxPool2d(2, 2)\n",
        "    self.conv2 = nn.Conv2d(16, 32, 5)\n",
        "    self.fc1 = nn.Linear(32 * 4 * 4, 120)\n",
        "    self.fc2 = nn.Linear(120, 84)\n",
        "    self.fc3 = nn.Linear(84, 10)\n",
        "\n",
        "  def forward(self, x):\n",
        "    x = F.relu(self.conv1(x))\n",
        "    x = self.pool(x)\n",
        "\n",
        "    x = F.relu(self.conv2(x))\n",
        "    x = self.pool(x)\n",
        "\n",
        "    x = torch.flatten(x, 1)\n",
        "\n",
        "    x = self.fc1(x)\n",
        "    x = self.fc2(x)\n",
        "    x = self.fc3(x)\n",
        "    return x\n",
        "  \n",
        "model = CNNModel()\n",
        "model = model.to(device)"
      ],
      "metadata": {
        "id": "c0R8w8ODhQgi"
      },
      "execution_count": 192,
      "outputs": []
    },
    {
      "cell_type": "code",
      "source": [
        "def get_train_step(model, loss_fn, optimizer):\n",
        "  def train_step(x, y):\n",
        "    yhat = model(x)\n",
        "    loss = loss_fn(yhat, y)\n",
        "    loss.backward()\n",
        "    optimizer.step()\n",
        "    optimizer.zero_grad()\n",
        "    return loss.item()\n",
        "  return train_step\n",
        "\n",
        "def evaluate():\n",
        "  total = 0\n",
        "  correct = 0\n",
        "  for i, (x, y) in enumerate(testloader):\n",
        "    x = x.to(device)\n",
        "    y = y.to(device) \n",
        "    yhat = model(x)\n",
        "    _, prediction = torch.max(yhat, dim=1)\n",
        "    total += y.shape[0]\n",
        "    correct += (prediction == y).sum()\n",
        "\n",
        "  accuracy = 100 * correct / total\n",
        "  print(f'Accuracy: {accuracy}%')\n"
      ],
      "metadata": {
        "id": "6PPpZrcWjvcn"
      },
      "execution_count": 193,
      "outputs": []
    },
    {
      "cell_type": "code",
      "source": [
        "lr = 0.005\n",
        "momentum = 0.9\n",
        "\n",
        "# define loss and optimizer\n",
        "loss_fn = nn.CrossEntropyLoss()\n",
        "\n",
        "\n",
        "epochs = 3\n",
        "\n",
        "loss = 0.0\n",
        "\n",
        "optimizer = optim.SGD(model.parameters(), lr=lr, momentum=momentum)\n",
        "\n",
        "train_step = get_train_step(model, loss_fn, optimizer)\n",
        "losses = []\n",
        "accuracies = []\n",
        "itertestloader = iter(testloader)\n",
        "t = time.time()\n",
        "\n",
        "counter = 0\n",
        "for epoch in range(epochs):\n",
        "  # train\n",
        "  model.train()\n",
        "  for i, (x, y) in enumerate(trainloader):\n",
        "    x = x.to(device)\n",
        "    y = y.to(device)\n",
        "    loss = train_step(x, y)\n",
        "\n",
        "    if i % 10 == 0:\n",
        "      losses.append(loss)\n",
        "  \n",
        "    if i % 10 == 0:\n",
        "      # eval\n",
        "      model.eval()\n",
        "      total = 0\n",
        "      correct = 0\n",
        "\n",
        "      x, y = next(itertestloader)\n",
        "      x = x.to(device)\n",
        "      y = y.to(device) \n",
        "      yhat = model(x)\n",
        "      _, prediction = torch.max(yhat, dim=1)\n",
        "      total += y.shape[0]\n",
        "      correct += (prediction == y).sum().item()\n",
        "      accuracy = correct / total\n",
        "      accuracies.append(accuracy)\n",
        "\n",
        "    counter += 1\n",
        "\n",
        "fig, axs = plt.subplots(1, 2)\n",
        "axs[0].plot(losses)\n",
        "axs[1].plot(accuracies)\n",
        "  \n",
        "\n",
        "\n",
        "\n",
        "\n",
        "# with torch.no_grad(): evaluate()\n",
        "\n",
        "t = time.time() - t\n",
        "print(t)\n",
        "\n"
      ],
      "metadata": {
        "colab": {
          "base_uri": "https://localhost:8080/",
          "height": 283
        },
        "id": "30UqKD3dmPSE",
        "outputId": "4edc9412-97ba-4b63-a3f9-a52e62a7d09a"
      },
      "execution_count": 194,
      "outputs": [
        {
          "output_type": "stream",
          "name": "stdout",
          "text": [
            "15.864444732666016\n"
          ]
        },
        {
          "output_type": "display_data",
          "data": {
            "text/plain": [
              "<Figure size 432x288 with 2 Axes>"
            ],
            "image/png": "[encoded data removed]"
          },
          "metadata": {
            "needs_background": "light"
          }
        }
      ]
    },
    {
      "cell_type": "code",
      "source": [
        ""
      ],
      "metadata": {
        "id": "xC8VdGDymlsE"
      },
      "execution_count": 197,
      "outputs": []
    },
    {
      "cell_type": "code",
      "source": [
        ""
      ],
      "metadata": {
        "id": "i4SGU3CBmm49"
      },
      "execution_count": 197,
      "outputs": []
    },
    {
      "cell_type": "code",
      "source": [
        ""
      ],
      "metadata": {
        "id": "Zbppn-kpvV19"
      },
      "execution_count": 197,
      "outputs": []
    },
    {
      "cell_type": "code",
      "source": [
        ""
      ],
      "metadata": {
        "id": "x4SmqKiOzkea"
      },
      "execution_count": 197,
      "outputs": []
    }
  ]
}