{
  "cells": [
    {
      "cell_type": "code",
      "execution_count": 1,
      "metadata": {
        "id": "vJjGRqshRFV-"
      },
      "outputs": [
        {
          "name": "stderr",
          "output_type": "stream",
          "text": [
            "/usr/local/lib/python3.9/site-packages/tqdm/auto.py:22: TqdmWarning: IProgress not found. Please update jupyter and ipywidgets. See https://ipywidgets.readthedocs.io/en/stable/user_install.html\n",
            "  from .autonotebook import tqdm as notebook_tqdm\n"
          ]
        }
      ],
      "source": [
        "import torch\n",
        "import torch.nn as nn\n",
        "import torch.optim as optim\n",
        "import matplotlib.pyplot as plt\n",
        "from torch.utils.data import Dataset, TensorDataset, DataLoader\n",
        "from torch.utils.data.dataset import random_split\n",
        "\n",
        "device = 'cuda' if torch.cuda.is_available() else 'cpu'\n",
        "\n",
        "x = torch.randn(100, 1, dtype=torch.float)\n",
        "y = 1 + 2 * x + 0.1 * torch.randn(100, 1, dtype=torch.float)"
      ]
    },
    {
      "cell_type": "code",
      "execution_count": 2,
      "metadata": {
        "id": "tsyKpisjWEtI"
      },
      "outputs": [],
      "source": [
        "class MyDataSet(Dataset):\n",
        "  def __init__(self, x_tensor, y_tensor):\n",
        "    self.x = x_tensor\n",
        "    self.y = y_tensor\n",
        "  def __getitem__(self, index):\n",
        "    return (self.x[index], self.y[index])\n",
        "  def __len__(self):\n",
        "    return len(self.x)\n",
        "\n",
        "dataset = MyDataSet(x, y)\n",
        "\n",
        "train_dataset, val_dataset = random_split(dataset, [80, 20])\n",
        "\n",
        "train_dataloader = DataLoader(train_dataset, batch_size=16, shuffle=True)\n",
        "val_dataloader = DataLoader(val_dataset, batch_size=20, shuffle=True)\n"
      ]
    },
    {
      "cell_type": "code",
      "execution_count": 3,
      "metadata": {
        "colab": {
          "base_uri": "https://localhost:8080/",
          "height": 339
        },
        "id": "-3akYwNvRPm3",
        "outputId": "c3e7c93d-79d7-4ac5-92c3-57ce62e3a5dd"
      },
      "outputs": [
        {
          "name": "stdout",
          "output_type": "stream",
          "text": [
            "OrderedDict([('0.weight', tensor([[1.9966]])), ('0.bias', tensor([0.9995]))])\n"
          ]
        }
      ],
      "source": [
        "lr = 1e-1\n",
        "epochs = 1000\n",
        "\n",
        "model = nn.Sequential(nn.Linear(1, 1)).to(device)\n",
        "loss_fn = nn.MSELoss(reduction='mean')\n",
        "optimizer = optim.SGD(model.parameters(), lr=lr)\n",
        "\n",
        "val_losses = []\n",
        "\n",
        "def get_train_step(model, loss_fn, optimizer):\n",
        "  def train_step(x, y):\n",
        "    yhat = model(x)\n",
        "    loss = loss_fn(yhat, y)\n",
        "    loss.backward()\n",
        "    optimizer.step()\n",
        "    optimizer.zero_grad()\n",
        "    return loss.item()\n",
        "  return train_step\n",
        "\n",
        "train_step = get_train_step(model, loss_fn, optimizer)\n",
        "\n",
        "for epoch in range(epochs):\n",
        "  for x_batch, y_batch in train_dataloader:\n",
        "    x_batch = x_batch.to(device)\n",
        "    y_batch = y_batch.to(device)\n",
        "\n",
        "    train_step(x_batch, y_batch)\n",
        "  with torch.no_grad():\n",
        "    for x_batch, y_batch in val_dataloader:\n",
        "\n",
        "      x_batch = x_batch.to(device)\n",
        "      y_batch = y_batch.to(device)\n",
        "\n",
        "      model.eval()\n",
        "      yhat = model(x_batch)\n",
        "      val_loss = loss_fn(yhat, y_batch)\n",
        "      val_losses.append(val_loss.item())\n",
        "\n",
        "\n",
        "print(model.state_dict())\n",
        "# print(val_losses)\n",
        "# plt.plot(val_losses[4:])\n",
        "\n",
        "              "
      ]
    },
    {
      "cell_type": "code",
      "execution_count": null,
      "metadata": {
        "id": "wi8VJfIaT5uh"
      },
      "outputs": [],
      "source": []
    }
  ],
  "metadata": {
    "colab": {
      "collapsed_sections": [],
      "name": "PyTorch Learning.ipynb",
      "provenance": []
    },
    "kernelspec": {
      "display_name": "Python 3",
      "name": "python3"
    },
    "language_info": {
      "codemirror_mode": {
        "name": "ipython",
        "version": 3
      },
      "file_extension": ".py",
      "mimetype": "text/x-python",
      "name": "python",
      "nbconvert_exporter": "python",
      "pygments_lexer": "ipython3",
      "version": "3.9.13"
    }
  },
  "nbformat": 4,
  "nbformat_minor": 0
}
